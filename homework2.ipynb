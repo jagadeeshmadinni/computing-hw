{
 "cells": [
  {
   "cell_type": "code",
   "execution_count": null,
   "id": "3fffad51",
   "metadata": {},
   "outputs": [],
   "source": [
    "#Question 1: Write a program which will find all such numbers which are divisible by 7 but are not a multiple of 5, \n",
    "#between 2000 and 3200 (both included). The numbers obtained should be printed in a comma-separated sequence \n",
    "#on a single line."
   ]
  },
  {
   "cell_type": "code",
   "execution_count": 95,
   "id": "9085d7d9",
   "metadata": {},
   "outputs": [
    {
     "name": "stdout",
     "output_type": "stream",
     "text": [
      "2002,2009,2016,2023,2037,2044,2051,2058,2072,2079,2086,2093,2107,2114,2121,2128,2142,2149,2156,2163,2177,2184,2191,2198,2212,2219,2226,2233,2247,2254,2261,2268,2282,2289,2296,2303,2317,2324,2331,2338,2352,2359,2366,2373,2387,2394,2401,2408,2422,2429,2436,2443,2457,2464,2471,2478,2492,2499,2506,2513,2527,2534,2541,2548,2562,2569,2576,2583,2597,2604,2611,2618,2632,2639,2646,2653,2667,2674,2681,2688,2702,2709,2716,2723,2737,2744,2751,2758,2772,2779,2786,2793,2807,2814,2821,2828,2842,2849,2856,2863,2877,2884,2891,2898,2912,2919,2926,2933,2947,2954,2961,2968,2982,2989,2996,3003,3017,3024,3031,3038,3052,3059,3066,3073,3087,3094,3101,3108,3122,3129,3136,3143,3157,3164,3171,3178,3192,3199\n"
     ]
    }
   ],
   "source": [
    "numList = []\n",
    "for i in range(2000,3201):\n",
    "    if (i%7==0 and i%5!=0):\n",
    "        numList.append(i)\n",
    "print(*numList, sep = ',')\n",
    "        "
   ]
  },
  {
   "cell_type": "code",
   "execution_count": null,
   "id": "362e4a90",
   "metadata": {},
   "outputs": [],
   "source": [
    "#Question 2: Write a program which can compute the factorial of a given numbers. The results should be printed in a comma-separated sequence on a single line. \n",
    "#Suppose the following input is supplied to the program: 8 Then, the output should be: 40320\n",
    "\n",
    "#Hints: In case of input data being supplied to the question, it should be assumed to be a console input."
   ]
  },
  {
   "cell_type": "code",
   "execution_count": 86,
   "id": "0353e9cb",
   "metadata": {},
   "outputs": [
    {
     "name": "stdout",
     "output_type": "stream",
     "text": [
      "6\n",
      "720\n"
     ]
    }
   ],
   "source": [
    "def fact_fun(a):\n",
    "    fact = 1\n",
    "    if a>1:\n",
    "        fact = a*fact_fun(a-1)\n",
    "    return fact\n",
    "\n",
    "num = int(input())\n",
    "if num >= 0:\n",
    "    print(fact_fun(num))\n",
    "    "
   ]
  },
  {
   "cell_type": "code",
   "execution_count": null,
   "id": "8a11879a",
   "metadata": {},
   "outputs": [],
   "source": [
    "#Question 3: With a given integral number n, write a program to generate a dictionary that contains (i, i*i) such that \n",
    "#is an integral number between 1 and n (both included). and then the program should print the dictionary. \n",
    "#Suppose the following input is supplied to the program: 8 Then, the output should be: {1: 1, 2: 4, 3: 9, 4: 16, 5: 25, 6: 36, 7: 49, 8: 64}\n",
    "#Hints: In case of input data being supplied to the question, it should be assumed to be a console input. Consider use dict()"
   ]
  },
  {
   "cell_type": "code",
   "execution_count": 32,
   "id": "f32d89af",
   "metadata": {},
   "outputs": [
    {
     "name": "stdout",
     "output_type": "stream",
     "text": [
      "1\n",
      "{1: 1}\n"
     ]
    }
   ],
   "source": [
    "squares = {}\n",
    "target = int(input())\n",
    "for i in range(1, target+1):\n",
    "    squares[i] = i*i\n",
    "print (squares)"
   ]
  },
  {
   "cell_type": "code",
   "execution_count": null,
   "id": "363e742a",
   "metadata": {},
   "outputs": [],
   "source": [
    "#Question 4: Write a program which accepts a sequence of comma-separated numbers from console and generate a list\n",
    "#and a tuple which contains every number. Suppose the following input is supplied to the program: 34,67,55,33,12,98\n",
    "# Then, the output should be: ['34', '67', '55', '33', '12', '98'] ('34', '67', '55', '33', '12', '98')\n",
    "\n",
    "# Hints: In case of input data being supplied to the question, it should be assumed to be a console input. tuple() method can convert list to tuple"
   ]
  },
  {
   "cell_type": "code",
   "execution_count": 39,
   "id": "598b0570",
   "metadata": {},
   "outputs": [
    {
     "name": "stdout",
     "output_type": "stream",
     "text": [
      "34,67,55,33,12,98\n",
      "['34', '67', '55', '33', '12', '98']\n",
      "('34', '67', '55', '33', '12', '98')\n"
     ]
    }
   ],
   "source": [
    "input_list = input().split(',')\n",
    "print(input_list)\n",
    "print(tuple(input_list))"
   ]
  },
  {
   "cell_type": "code",
   "execution_count": null,
   "id": "ce7bab9a",
   "metadata": {},
   "outputs": [],
   "source": [
    "# Question 5: Define a class which has at least two methods:\n",
    "#getString: to get a string from console input\n",
    "#printString: to print the string in upper case.\n",
    "#Also please include simple test function to test the class methods.\n",
    "#Hints: Use init method to construct some parameters"
   ]
  },
  {
   "cell_type": "code",
   "execution_count": 57,
   "id": "dbd01d67",
   "metadata": {},
   "outputs": [
    {
     "name": "stdout",
     "output_type": "stream",
     "text": [
      "my name is jag\n",
      "Upper Case: MY NAME IS JAG\n",
      "Length: 14\n"
     ]
    }
   ],
   "source": [
    "class StringFormat:\n",
    "    def __init__(self):\n",
    "        self.name = input()\n",
    "        self.length = len(self.name)\n",
    "    def getString():\n",
    "        self.name = input()\n",
    "        \n",
    "    def printString(self):\n",
    "        print(\"Upper Case: \"+str.upper(self.name))\n",
    "        print(\"Length: \"+str(self.length))\n",
    "\n",
    "person = StringFormat()\n",
    "person.printString()\n",
    "            "
   ]
  },
  {
   "cell_type": "code",
   "execution_count": null,
   "id": "194116d0",
   "metadata": {},
   "outputs": [],
   "source": [
    "#Question 6: Write a program that calculates and prints the value according to the given formula:\n",
    "#Q = Square root of [(2 * C * D)/H] Following are the fixed values of C and H:\n",
    "#C is 50. H is 30. D is the variable whose values should be input to your program in a comma-separated sequence.\n",
    "#Example: Let us assume the following comma separated input sequence is given to the program:\n",
    "#100,150,180 The output of the program should be: 18,22,24\n",
    "#Hints: If the output received is in decimal form, it should be rounded off to its nearest value \n",
    "#(for example, if the output received is 26.0, it should be printed as 26)\n",
    "#In case of input data being supplied to the question, it should be assumed to be a console input."
   ]
  },
  {
   "cell_type": "code",
   "execution_count": 96,
   "id": "2cec42e9",
   "metadata": {},
   "outputs": [
    {
     "name": "stdout",
     "output_type": "stream",
     "text": [
      "100,150,180,200,450\n",
      "18,22,24,26,39\n"
     ]
    }
   ],
   "source": [
    "import math\n",
    "def printEquation(D):\n",
    "    C = 50\n",
    "    H = 30\n",
    "    Q = math.sqrt((2 * C * D)/H)\n",
    "    return Q\n",
    "\n",
    "inputList = input().split(',')\n",
    "outputList = []\n",
    "for eachNum in inputList:\n",
    "    outputList.append(round(printEquation(int(eachNum))))\n",
    "    \n",
    "print(*outputList,sep=',')\n",
    "    "
   ]
  },
  {
   "cell_type": "code",
   "execution_count": 72,
   "id": "51c9be08",
   "metadata": {},
   "outputs": [],
   "source": [
    "#Question 7: Write a program which takes 2 digits, X,Y as input and generates a 2-dimensional array. The element value in the i-th row and j-th column of the array should be i*j.\n",
    "#Note: i=0,1.., X-1; j=0,1,.., Y-1.\n",
    "#Example: Suppose the following inputs are given to the program: 3,5\n",
    "#Then, the output of the program should be: [[0, 0, 0, 0, 0], [0, 1, 2, 3, 4], [0, 2, 4, 6, 8]]\n",
    "#Hints: Note: In case of input data being supplied to the question, it should be assumed to be a console input in a comma-separated form."
   ]
  },
  {
   "cell_type": "code",
   "execution_count": 78,
   "id": "9e2a89ba",
   "metadata": {},
   "outputs": [
    {
     "name": "stdout",
     "output_type": "stream",
     "text": [
      "3,5\n",
      "[[0, 0, 0, 0, 0], [0, 1, 2, 3, 4], [0, 2, 4, 6, 8]]\n"
     ]
    }
   ],
   "source": [
    "inputStr = input().split(',')\n",
    "X = int(inputStr[0])\n",
    "Y = int(inputStr[1])\n",
    "newArray=[]\n",
    "for i in range(X):\n",
    "    newArray.append([])\n",
    "    for j in range(Y):\n",
    "        newArray[i].append(i*j)\n",
    "print(newArray)\n"
   ]
  },
  {
   "cell_type": "code",
   "execution_count": 79,
   "id": "9fd75c25",
   "metadata": {},
   "outputs": [],
   "source": [
    "#Question 8: Write a program that accepts a comma separated sequence of words as input and prints the words in a comma-separated sequence after sorting them alphabetically.\n",
    "#Suppose the following input is supplied to the program: without,hello,bag,world\n",
    "#Then, the output should be: bag,hello,without,world\n",
    "#Hints: In case of input data being supplied to the question, it should be assumed to be a console input."
   ]
  },
  {
   "cell_type": "code",
   "execution_count": 98,
   "id": "f737e195",
   "metadata": {},
   "outputs": [
    {
     "name": "stdout",
     "output_type": "stream",
     "text": [
      "without,hello,bag,world\n",
      "bag,hello,without,world\n"
     ]
    }
   ],
   "source": [
    "inputList = input().split(',')\n",
    "print(*sorted(inputList), sep = ',')\n"
   ]
  },
  {
   "cell_type": "code",
   "execution_count": 99,
   "id": "5375a806",
   "metadata": {},
   "outputs": [],
   "source": [
    "#Question 9: Write a program that accepts sequence of lines as input and prints the lines after making all characters in the sentence capitalized. Suppose the following input is supplied to the program:\n",
    "#Hello world\n",
    "#Practice makes perfect\n",
    "#Then, the output should be: HELLO WORLD\n",
    "#PRACTICE MAKES PERFECT\n",
    "#Hints: In case of input data being supplied to the question, it should be assumed to be a console input."
   ]
  },
  {
   "cell_type": "code",
   "execution_count": 108,
   "id": "75af7b38",
   "metadata": {},
   "outputs": [
    {
     "name": "stdout",
     "output_type": "stream",
     "text": [
      "hello\n",
      "this\n",
      "\n",
      "HELLO\n",
      "THIS\n"
     ]
    }
   ],
   "source": [
    "outputStrings = []\n",
    "while True:\n",
    "    inputStrings = input()\n",
    "    if inputStrings:\n",
    "        outputStrings.append(str.upper(inputStrings))\n",
    "    else:\n",
    "        break\n",
    "print(*outputStrings, sep = '\\n')"
   ]
  },
  {
   "cell_type": "code",
   "execution_count": 109,
   "id": "7fbdfb40",
   "metadata": {},
   "outputs": [],
   "source": [
    "#Question 10: Write a program that accepts a sequence of whitespace separated words as input and prints the words after removing all duplicate words and sorting them alphanumerically.\n",
    "#Suppose the following input is supplied to the program:\n",
    "#hello world and practice makes perfect and hello world again\n",
    "#Then, the output should be:\n",
    "#again and hello makes perfect practice world\n",
    "\n",
    "#Hints: In case of input data being supplied to the question, it should be assumed to be a console input.\n",
    "#We use set container to remove duplicated data automatically and then use sorted() to sort the data."
   ]
  },
  {
   "cell_type": "code",
   "execution_count": 113,
   "id": "e5055754",
   "metadata": {},
   "outputs": [
    {
     "name": "stdout",
     "output_type": "stream",
     "text": [
      "hello world and practice makes perfect and hello world again\n",
      "again and hello makes perfect practice world\n"
     ]
    }
   ],
   "source": [
    "inputStringList = input().strip().split(' ')\n",
    "print(*sorted(set(inputStringList)))"
   ]
  },
  {
   "cell_type": "code",
   "execution_count": null,
   "id": "0fe235b7",
   "metadata": {},
   "outputs": [],
   "source": [
    "#Question 11: Define a class, which have a class parameter and have a same instance parameter.\n",
    "\n",
    "#Hints: Define a instance parameter, need add it in init method\n",
    "#You can init a object with construct parameter or set the value later"
   ]
  },
  {
   "cell_type": "code",
   "execution_count": 119,
   "id": "e0532290",
   "metadata": {},
   "outputs": [
    {
     "name": "stdout",
     "output_type": "stream",
     "text": [
      "Name: John Smith\n",
      "ID: 123\n"
     ]
    }
   ],
   "source": [
    "class studentProfile:\n",
    "    major = 'Automotive'\n",
    "    def __init__(self,name,id):\n",
    "        self.name = name\n",
    "        self.id = id\n",
    "    def printStudentDetails(self):\n",
    "        print(\"Name: \"+self.name)\n",
    "        print(\"ID: \"+self.id)\n",
    "john = studentProfile('John Smith','123')\n",
    "john.printStudentDetails()"
   ]
  },
  {
   "cell_type": "code",
   "execution_count": 120,
   "id": "4ea8ad5e",
   "metadata": {},
   "outputs": [],
   "source": [
    "#Question 12: Define a function which can generate a dictionary where the keys are numbers between 1 and 20 (both included) and \n",
    "#the values are square of keys. The function should just print the values only.\n",
    "#Hints: Use dict[key]=value pattern to put entry into a dictionary.\n",
    "#Use ** operator to get power of a number.\n",
    "#Use range() for loops.\n",
    "#Use keys() to iterate keys in the dictionary. Also we can use item() to get key/value pairs."
   ]
  },
  {
   "cell_type": "code",
   "execution_count": 129,
   "id": "e472ff4f",
   "metadata": {},
   "outputs": [
    {
     "name": "stdout",
     "output_type": "stream",
     "text": [
      "1\n",
      "4\n",
      "9\n",
      "16\n",
      "25\n",
      "36\n",
      "49\n",
      "64\n",
      "81\n",
      "100\n",
      "121\n",
      "144\n",
      "169\n",
      "196\n",
      "225\n",
      "256\n",
      "289\n",
      "324\n",
      "361\n",
      "400\n"
     ]
    }
   ],
   "source": [
    "def dict_gen():\n",
    "    dictOne = {}\n",
    "    for i in range(1,21):\n",
    "        dictOne[i] = i**2\n",
    "    for key,value in dictOne.items():\n",
    "        print(value)\n",
    "dict_gen()"
   ]
  },
  {
   "cell_type": "code",
   "execution_count": 128,
   "id": "e0445100",
   "metadata": {},
   "outputs": [],
   "source": [
    "#Question 13: Define a function which can generate a dictionary where the keys are numbers between 1 and 20 (both included) and the values are square of keys. The function should just print the keys only.\n",
    "\n",
    "#Hints: Use dict[key]=value pattern to put entry into a dictionary.\n",
    "#Use ** operator to get power of a number.\n",
    "#Use range() for loops.\n",
    "#Use keys() to iterate keys in the dictionary. Also we can use item() to get key/value pairs."
   ]
  },
  {
   "cell_type": "code",
   "execution_count": 130,
   "id": "b9112354",
   "metadata": {},
   "outputs": [
    {
     "name": "stdout",
     "output_type": "stream",
     "text": [
      "1\n",
      "2\n",
      "3\n",
      "4\n",
      "5\n",
      "6\n",
      "7\n",
      "8\n",
      "9\n",
      "10\n",
      "11\n",
      "12\n",
      "13\n",
      "14\n",
      "15\n",
      "16\n",
      "17\n",
      "18\n",
      "19\n",
      "20\n"
     ]
    }
   ],
   "source": [
    "def dict_gen():\n",
    "    dictOne = {}\n",
    "    for i in range(1,21):\n",
    "        dictOne[i] = i**2\n",
    "    for key,value in dictOne.items():\n",
    "        print(key)\n",
    "dict_gen()"
   ]
  },
  {
   "cell_type": "code",
   "execution_count": 131,
   "id": "26d1898e",
   "metadata": {},
   "outputs": [],
   "source": [
    "#Question 14: Define a function which can generate and print a list where the values are square of numbers between 1 and 20 (both included).\n",
    "#Hints: Use ** operator to get power of a number.\n",
    "#Use range() for loops.\n",
    "#Use list.append() to add values into a list."
   ]
  },
  {
   "cell_type": "code",
   "execution_count": 134,
   "id": "6312be5b",
   "metadata": {},
   "outputs": [
    {
     "name": "stdout",
     "output_type": "stream",
     "text": [
      "[1, 4, 9, 16, 25, 36, 49, 64, 81, 100, 121, 144, 169, 196, 225, 256, 289, 324, 361, 400]\n"
     ]
    }
   ],
   "source": [
    "squaresList = []\n",
    "for num in range(1,21):\n",
    "    squaresList.append(num**2)\n",
    "print(squaresList)"
   ]
  },
  {
   "cell_type": "code",
   "execution_count": 135,
   "id": "12e1dd38",
   "metadata": {},
   "outputs": [],
   "source": [
    "#Question 15: Write a program to generate and print another tuple whose values are even numbers in the given tuple (1,2,3,4,5,6,7,8,9,10).\n",
    "\n",
    "#Hints: Use \"for\" to iterate the tuple\n",
    "#Use tuple() to generate a tuple from a list."
   ]
  },
  {
   "cell_type": "code",
   "execution_count": 136,
   "id": "964f66da",
   "metadata": {},
   "outputs": [
    {
     "name": "stdout",
     "output_type": "stream",
     "text": [
      "(2, 4, 6, 8, 10)\n"
     ]
    }
   ],
   "source": [
    "evenList = []\n",
    "for itr in (1,2,3,4,5,6,7,8,9,10):\n",
    "    if(itr%2==0):\n",
    "        evenList.append(itr)\n",
    "evenTuple = tuple(evenList)\n",
    "print(evenTuple)"
   ]
  },
  {
   "cell_type": "code",
   "execution_count": 137,
   "id": "62a08dc1",
   "metadata": {},
   "outputs": [],
   "source": [
    "#Question 16: Define a class named American and its subclass NewYorker.\n",
    "\n",
    "#Hints: Use class Subclass(ParentClass) to define a subclass."
   ]
  },
  {
   "cell_type": "code",
   "execution_count": 138,
   "id": "bdfb18ca",
   "metadata": {},
   "outputs": [
    {
     "name": "stdout",
     "output_type": "stream",
     "text": [
      "New York\n"
     ]
    }
   ],
   "source": [
    "class American:\n",
    "    name = \"John Smith\"\n",
    "class NewYorker(American):\n",
    "    city = \"New York\"\n",
    "newPerson = NewYorker()\n",
    "print(newPerson.city)"
   ]
  },
  {
   "cell_type": "code",
   "execution_count": 139,
   "id": "430c27d8",
   "metadata": {},
   "outputs": [],
   "source": [
    "#Question 17: Define a class named Rectangle which can be constructed by a length and width.\n",
    "#The Rectangle class has a method which can compute the area.\n",
    "\n",
    "#Hints: Use def methodName(self) to define a method."
   ]
  },
  {
   "cell_type": "code",
   "execution_count": 141,
   "id": "8da83738",
   "metadata": {},
   "outputs": [
    {
     "name": "stdout",
     "output_type": "stream",
     "text": [
      "20\n"
     ]
    }
   ],
   "source": [
    "class Rectangle:\n",
    "    def __init__(self, length, width):\n",
    "        self.length = length\n",
    "        self.width = width\n",
    "    def calculateArea(self):\n",
    "        self.area = self.length*self.width\n",
    "        return self.area\n",
    "shapeOne = Rectangle(5,4)\n",
    "print(shapeOne.calculateArea())"
   ]
  },
  {
   "cell_type": "code",
   "execution_count": 142,
   "id": "79195f17",
   "metadata": {},
   "outputs": [],
   "source": [
    "#Question 18: Define a class named Shape and its subclass Square. The Square class has an init function which takes a length as argument. \n",
    "#Both classes have a area function which can print the area of the shape where Shape's area is 0 by default.\n",
    "#Hints: To override a method in super class, we can define a method with the same name in the super class."
   ]
  },
  {
   "cell_type": "code",
   "execution_count": 145,
   "id": "f5e2619f",
   "metadata": {},
   "outputs": [
    {
     "name": "stdout",
     "output_type": "stream",
     "text": [
      "4\n"
     ]
    }
   ],
   "source": [
    "class Shape:\n",
    "    area = 0\n",
    "    def printArea(self):\n",
    "        print(area)\n",
    "class Square(Shape):\n",
    "    def __init__(self,length):\n",
    "        self.length = length\n",
    "    def printArea(self):\n",
    "        area = self.length**2\n",
    "        print(area)\n",
    "newShape = Square(2)\n",
    "newShape.printArea()"
   ]
  },
  {
   "cell_type": "code",
   "execution_count": 146,
   "id": "b4db9e84",
   "metadata": {},
   "outputs": [],
   "source": [
    "#Question 19: Write a function to compute 5/0 and use try/except to catch the exceptions.\n",
    "\n",
    "#Hints: Use try/except to catch exceptions."
   ]
  },
  {
   "cell_type": "code",
   "execution_count": 148,
   "id": "17a4c13e",
   "metadata": {},
   "outputs": [
    {
     "name": "stdout",
     "output_type": "stream",
     "text": [
      "Illegal Operation\n"
     ]
    }
   ],
   "source": [
    "def divZero():\n",
    "    try:\n",
    "        i = 5/0\n",
    "    except:\n",
    "        print(\"Illegal Operation\")\n",
    "divZero()"
   ]
  },
  {
   "cell_type": "code",
   "execution_count": null,
   "id": "f1337ef2",
   "metadata": {},
   "outputs": [],
   "source": [
    "#Question 20: With a given list [12,24,35,24,88,120,155,88,120,155], write a program to print this list after removing all duplicate values with original order reserved.\n",
    "\n",
    "#Hints: Use set() to store a number of values without duplicate."
   ]
  },
  {
   "cell_type": "code",
   "execution_count": 151,
   "id": "0aecdd07",
   "metadata": {},
   "outputs": [
    {
     "name": "stdout",
     "output_type": "stream",
     "text": [
      "{35, 12, 155, 24, 88, 120}\n"
     ]
    }
   ],
   "source": [
    "oldList = [12,24,35,24,88,120,155,88,120,155]\n",
    "newSet = set(oldList)\n",
    "newList = list(newSet)\n",
    "print(newSet)"
   ]
  },
  {
   "cell_type": "code",
   "execution_count": null,
   "id": "552d395c",
   "metadata": {},
   "outputs": [],
   "source": []
  }
 ],
 "metadata": {
  "kernelspec": {
   "display_name": "Python 3 (ipykernel)",
   "language": "python",
   "name": "python3"
  },
  "language_info": {
   "codemirror_mode": {
    "name": "ipython",
    "version": 3
   },
   "file_extension": ".py",
   "mimetype": "text/x-python",
   "name": "python",
   "nbconvert_exporter": "python",
   "pygments_lexer": "ipython3",
   "version": "3.11.4"
  }
 },
 "nbformat": 4,
 "nbformat_minor": 5
}
